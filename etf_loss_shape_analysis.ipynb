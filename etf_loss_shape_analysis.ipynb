{
 "cells": [
  {
   "cell_type": "code",
   "execution_count": 8,
   "id": "d40602bc-0e85-4a11-8152-79c1cb832cdf",
   "metadata": {},
   "outputs": [],
   "source": [
    "import torch\n",
    "import numpy as np"
   ]
  },
  {
   "cell_type": "code",
   "execution_count": 5,
   "id": "a1b6d9bd-eabb-466d-baee-5aa200b708f9",
   "metadata": {},
   "outputs": [
    {
     "name": "stdout",
     "output_type": "stream",
     "text": [
      "torch.Size([4, 2048, 33, 33])\n"
     ]
    }
   ],
   "source": [
    "B = 4\n",
    "feat_dim = 2048\n",
    "H = 33\n",
    "W = 33\n",
    "\n",
    "features = torch.randn(B, feat_dim, H, W)\n",
    "print(features.shape)"
   ]
  },
  {
   "cell_type": "code",
   "execution_count": 6,
   "id": "f415bb8b-a616-4783-8d1b-8f39d572640b",
   "metadata": {},
   "outputs": [
    {
     "name": "stdout",
     "output_type": "stream",
     "text": [
      "torch.Size([4, 33, 33])\n"
     ]
    }
   ],
   "source": [
    "labels = torch.randint(0, 5, (B, H ,W))\n",
    "print(labels.shape)"
   ]
  },
  {
   "cell_type": "code",
   "execution_count": 9,
   "id": "5e50b637-ee02-4af2-bb79-afa3a49505bb",
   "metadata": {},
   "outputs": [
    {
     "name": "stdout",
     "output_type": "stream",
     "text": [
      "torch.Size([5, 2048])\n"
     ]
    }
   ],
   "source": [
    "source_class_prototypes = np.load('pretrained_models/mr2ct_class_center_feas_init.npy')\n",
    "source_class_prototypes = torch.from_numpy(source_class_prototypes).float().cuda()\n",
    "print(source_class_prototypes.shape)"
   ]
  },
  {
   "cell_type": "code",
   "execution_count": 10,
   "id": "3eeb1e65-ccc8-4dfe-b6d5-7ff298718a30",
   "metadata": {},
   "outputs": [
    {
     "data": {
      "text/plain": [
       "tensor([[5.4051e-02, 2.0090e-02, 1.7574e-02,  ..., 1.5758e-02, 8.6078e-02,\n",
       "         7.0926e-03],\n",
       "        [1.3640e-02, 1.0893e-02, 3.4559e-01,  ..., 8.1896e-02, 1.2376e-03,\n",
       "         9.9656e-03],\n",
       "        [1.6323e-01, 1.6255e-03, 6.8898e-01,  ..., 6.2445e-02, 7.1961e-05,\n",
       "         2.0323e-02],\n",
       "        [2.6903e-02, 2.2649e-04, 1.2833e-01,  ..., 5.9504e-02, 2.1416e-04,\n",
       "         1.0025e-01],\n",
       "        [1.6706e-02, 6.8699e-04, 2.7064e-01,  ..., 1.4282e-03, 1.4742e-03,\n",
       "         1.2156e-02]], device='cuda:0')"
      ]
     },
     "execution_count": 10,
     "metadata": {},
     "output_type": "execute_result"
    }
   ],
   "source": [
    "source_class_prototypes"
   ]
  },
  {
   "cell_type": "code",
   "execution_count": 12,
   "id": "8cf73137-3991-4a87-a26c-694ea42ec9f4",
   "metadata": {},
   "outputs": [],
   "source": [
    "import os\n",
    "import pprint\n",
    "import random\n",
    "import warnings\n",
    "import yaml\n",
    "import torch\n",
    "import argparse\n",
    "import numpy as np\n",
    "import os.path as osp\n",
    "from torch.utils import data\n",
    "\n",
    "from train import train_supervised, train_supervised_etf, train_uda_dap\n",
    "from data_reader import CTDataset, MRDataset, CTDataset_aug, MRDataset_aug\n",
    "from model.deeplabv2 import get_deeplab_v2\n",
    "\n",
    "model = get_deeplab_v2(num_classes=5, multi_level=True)\n",
    "saved_state_dict = torch.load('pretrained_models/DeepLab_resnet_pretrained_imagenet.pth', weights_only=True, map_location=torch.device(\"cpu\"))\n",
    "if 'DeepLab_resnet_pretrained' in 'pretrained_models/DeepLab_resnet_pretrained_imagenet.pth':\n",
    "    new_params = model.state_dict().copy()\n",
    "    for i in saved_state_dict:\n",
    "        i_parts = i.split('.')\n",
    "        if not i_parts[1] == 'layer5':\n",
    "            new_params['.'.join(i_parts[1:])] = saved_state_dict[i]\n",
    "    model.load_state_dict(new_params)\n",
    "else:\n",
    "    model.load_state_dict(saved_state_dict)\n",
    "\n",
    "model = torch.compile(model)"
   ]
  },
  {
   "cell_type": "code",
   "execution_count": 18,
   "id": "49f336ea-298a-49d7-b102-3587824a0c51",
   "metadata": {},
   "outputs": [],
   "source": [
    "transforms = None\n",
    "img_mean = np.array((104.00698793, 116.66876762, 122.67891434), dtype=np.float32)\n",
    "train_data = 'data/datalist/train_mr.txt'\n",
    "train_gt_data = 'data/datalist/train_mr_gt.txt'\n",
    "\n",
    "def _init_fn(worker_id):\n",
    "        np.random.seed(0+worker_id)\n",
    "\n",
    "train_dataset = MRDataset(data_pth=train_data, gt_pth=train_gt_data, img_mean=img_mean, transform=transforms)\n",
    "train_loader = data.DataLoader(train_dataset,\n",
    "                                      batch_size=4,\n",
    "                                      shuffle=True,\n",
    "                                      pin_memory=True,\n",
    "                                      worker_init_fn=_init_fn)"
   ]
  },
  {
   "cell_type": "code",
   "execution_count": null,
   "id": "96a2ff47-81fe-4a5a-9d71-0e12d15ad163",
   "metadata": {},
   "outputs": [],
   "source": [
    "train_loader_"
   ]
  }
 ],
 "metadata": {
  "kernelspec": {
   "display_name": "Python 3 (ipykernel)",
   "language": "python",
   "name": "python3"
  },
  "language_info": {
   "codemirror_mode": {
    "name": "ipython",
    "version": 3
   },
   "file_extension": ".py",
   "mimetype": "text/x-python",
   "name": "python",
   "nbconvert_exporter": "python",
   "pygments_lexer": "ipython3",
   "version": "3.10.12"
  }
 },
 "nbformat": 4,
 "nbformat_minor": 5
}
