{
 "cells": [
  {
   "cell_type": "code",
   "execution_count": 25,
   "id": "6d9b696f-20e4-4256-a81c-9ea906468f97",
   "metadata": {},
   "outputs": [],
   "source": [
    "import torch\n",
    "import numpy as np\n",
    "from torch import nn\n",
    "import torch.nn.functional as F"
   ]
  },
  {
   "cell_type": "code",
   "execution_count": 75,
   "id": "8ac9efbb-e103-48f7-8373-b80e15a3f8ef",
   "metadata": {},
   "outputs": [],
   "source": [
    "# GENERATE CLASS PROTOTYPES\n",
    "\n",
    "interp_up = nn.Upsample(size=(256, 256), mode='bilinear', align_corners=True)\n",
    "\n",
    "def generate_random_orthogonal_matrix(feature_dim, num_classes):\n",
    "    a = np.random.random(size=(feature_dim, num_classes))\n",
    "    P, _ = np.linalg.qr(a)\n",
    "    P = torch.tensor(P).float()\n",
    "    assert torch.allclose(torch.matmul(P.T, P), torch.eye(num_classes), atol=1e-07), torch.max(torch.abs(torch.matmul(P.T, P) - torch.eye(num_classes)))\n",
    "    return P\n",
    "\n",
    "def generate_etf_class_prototypes(feature_dim, num_classes):\n",
    "    print(f\"Generating ETF class prototypes for K={num_classes} and d={feature_dim}.\")\n",
    "    d = feature_dim\n",
    "    K = num_classes\n",
    "    P = generate_random_orthogonal_matrix(feature_dim=d, num_classes=K)\n",
    "    I = torch.eye(K)\n",
    "    one = torch.ones(K, K)\n",
    "    M_star = np.sqrt(K / (K-1)) * torch.matmul(P, I-((1/K) * one))\n",
    "    M_star = M_star.cuda()\n",
    "    return M_star"
   ]
  },
  {
   "cell_type": "code",
   "execution_count": 76,
   "id": "4d40beb1-87ca-4ada-96dc-d6e2d6762c00",
   "metadata": {},
   "outputs": [
    {
     "name": "stdout",
     "output_type": "stream",
     "text": [
      "Generating ETF class prototypes for K=5 and d=2048.\n"
     ]
    },
    {
     "data": {
      "text/plain": [
       "tensor([[-0.0201, -0.0195,  0.0518,  0.0056, -0.0178],\n",
       "        [-0.0207,  0.0010,  0.0187,  0.0126, -0.0117],\n",
       "        [-0.0154, -0.0023, -0.0076,  0.0098,  0.0155],\n",
       "        ...,\n",
       "        [-0.0236, -0.0041,  0.0160,  0.0285, -0.0168],\n",
       "        [-0.0194,  0.0179, -0.0243,  0.0290, -0.0032],\n",
       "        [-0.0434,  0.0126, -0.0100,  0.0093,  0.0315]], device='cuda:0')"
      ]
     },
     "execution_count": 76,
     "metadata": {},
     "output_type": "execute_result"
    }
   ],
   "source": [
    "class_prototypes = generate_etf_class_prototypes(feature_dim=2048, num_classes=5)\n",
    "class_prototypes"
   ]
  },
  {
   "cell_type": "code",
   "execution_count": 77,
   "id": "3320a8f7-8b0e-48d8-8844-13627a987222",
   "metadata": {},
   "outputs": [
    {
     "name": "stdout",
     "output_type": "stream",
     "text": [
      "torch.Size([2048, 5])\n"
     ]
    }
   ],
   "source": [
    "'''\n",
    "    B: batch size\n",
    "    feat_dim: feature dimension\n",
    "    H: Height\n",
    "    W: Width\n",
    "    mode: Choose out of three options - [\"thresholding\", \"thresh_feat_consistency\", \"pixel_self_labeling_OT\"]\n",
    "    \n",
    "    target_features: B*feat_dim*H*W\n",
    "    domain_agnostic_prototypes: C*feat_dim\n",
    "\n",
    "    domain_agnostic_prototypes are already normalized.\n",
    "'''\n",
    "\n",
    "print(class_prototypes.shape) # (feat_dim, C)"
   ]
  },
  {
   "cell_type": "code",
   "execution_count": 78,
   "id": "54b75d2d-6a44-4de7-aea6-0d1613c12602",
   "metadata": {},
   "outputs": [
    {
     "name": "stdout",
     "output_type": "stream",
     "text": [
      "torch.Size([4, 2048, 33, 33])\n",
      "torch.Size([4, 2048, 256, 256])\n"
     ]
    }
   ],
   "source": [
    "B = 4\n",
    "feat_dim = 2048\n",
    "H = 33\n",
    "W = 33\n",
    "\n",
    "target_features = torch.randn(B, feat_dim, H, W)\n",
    "print(target_features.shape)\n",
    "target_features = interp_up(target_features)\n",
    "print(target_features.shape)"
   ]
  },
  {
   "cell_type": "code",
   "execution_count": 79,
   "id": "2e46b5d3-73da-42d8-9741-90f33ddcbbbb",
   "metadata": {},
   "outputs": [
    {
     "name": "stdout",
     "output_type": "stream",
     "text": [
      "torch.Size([2048])\n",
      "tensor(44.7465)\n"
     ]
    }
   ],
   "source": [
    "# single pixel representation\n",
    "\n",
    "print(target_features[0,:,0,0].shape)\n",
    "print(torch.norm(target_features[0,:,0,0], p=2))"
   ]
  },
  {
   "cell_type": "code",
   "execution_count": 80,
   "id": "e0119856-cd81-4829-b820-bfee024b69ff",
   "metadata": {},
   "outputs": [
    {
     "name": "stdout",
     "output_type": "stream",
     "text": [
      "torch.Size([2048])\n",
      "tensor(1.)\n"
     ]
    }
   ],
   "source": [
    "target_features = F.normalize(target_features, p=2, dim=1)\n",
    "print(target_features[0,:,0,0].shape)\n",
    "print(torch.norm(target_features[0,:,0,0], p=2))"
   ]
  },
  {
   "cell_type": "code",
   "execution_count": 81,
   "id": "73fa9248-262a-4a2a-bcd7-ef5c2e0c0305",
   "metadata": {},
   "outputs": [
    {
     "name": "stdout",
     "output_type": "stream",
     "text": [
      "torch.Size([4, 256, 256, 2048])\n"
     ]
    }
   ],
   "source": [
    "target_features = target_features.permute(0, 2, 3, 1)\n",
    "print(target_features.shape)"
   ]
  },
  {
   "cell_type": "code",
   "execution_count": 82,
   "id": "6fba48c1-6ff3-4fa8-9715-e2038dc8e5ef",
   "metadata": {},
   "outputs": [
    {
     "name": "stdout",
     "output_type": "stream",
     "text": [
      "torch.Size([4, 256, 256, 5])\n"
     ]
    }
   ],
   "source": [
    "batch_pixel_cosine_sim = torch.matmul(target_features.cuda(), class_prototypes.cuda())\n",
    "print(batch_pixel_cosine_sim.shape)"
   ]
  },
  {
   "cell_type": "code",
   "execution_count": 83,
   "id": "5e6b96e8-9d44-4a1c-80be-ed35ec784ee6",
   "metadata": {},
   "outputs": [
    {
     "name": "stdout",
     "output_type": "stream",
     "text": [
      "tensor([-0.0152,  0.0082,  0.0056,  0.0132, -0.0118], device='cuda:0')\n"
     ]
    }
   ],
   "source": [
    "print(batch_pixel_cosine_sim[0,0,0,:])"
   ]
  },
  {
   "cell_type": "code",
   "execution_count": 84,
   "id": "9de73152-1517-44c4-b3c5-7c5c07aaa809",
   "metadata": {},
   "outputs": [
    {
     "name": "stdout",
     "output_type": "stream",
     "text": [
      "torch.Size([4, 256, 256, 5])\n"
     ]
    }
   ],
   "source": [
    "threshold = 0.6\n",
    "\n",
    "batch_sort_cosine, _ = torch.sort(batch_pixel_cosine_sim, dim=-1)\n",
    "print(batch_sort_cosine.shape)"
   ]
  },
  {
   "cell_type": "code",
   "execution_count": 85,
   "id": "c604edb3-f623-4ac2-8c9e-b4b2731379b4",
   "metadata": {},
   "outputs": [
    {
     "name": "stdout",
     "output_type": "stream",
     "text": [
      "tensor([-0.0152, -0.0118,  0.0056,  0.0082,  0.0132], device='cuda:0')\n"
     ]
    }
   ],
   "source": [
    "print(batch_sort_cosine[0,0,0,:])"
   ]
  },
  {
   "cell_type": "code",
   "execution_count": 86,
   "id": "99c48384-7a51-4641-9b3c-5b7cddde1a87",
   "metadata": {},
   "outputs": [
    {
     "data": {
      "text/plain": [
       "tensor([[[0.0132, 0.0167, 0.0205,  ..., 0.0328, 0.0334, 0.0332],\n",
       "         [0.0127, 0.0160, 0.0205,  ..., 0.0326, 0.0332, 0.0329],\n",
       "         [0.0116, 0.0173, 0.0247,  ..., 0.0314, 0.0327, 0.0344],\n",
       "         ...,\n",
       "         [0.0291, 0.0282, 0.0261,  ..., 0.0265, 0.0262, 0.0254],\n",
       "         [0.0306, 0.0300, 0.0285,  ..., 0.0235, 0.0241, 0.0241],\n",
       "         [0.0331, 0.0329, 0.0318,  ..., 0.0234, 0.0241, 0.0241]],\n",
       "\n",
       "        [[0.0384, 0.0400, 0.0407,  ..., 0.0269, 0.0319, 0.0352],\n",
       "         [0.0374, 0.0389, 0.0396,  ..., 0.0266, 0.0321, 0.0358],\n",
       "         [0.0349, 0.0363, 0.0368,  ..., 0.0255, 0.0315, 0.0355],\n",
       "         ...,\n",
       "         [0.0138, 0.0168, 0.0229,  ..., 0.0301, 0.0291, 0.0277],\n",
       "         [0.0136, 0.0191, 0.0255,  ..., 0.0329, 0.0321, 0.0307],\n",
       "         [0.0162, 0.0212, 0.0269,  ..., 0.0343, 0.0337, 0.0324]],\n",
       "\n",
       "        [[0.0115, 0.0104, 0.0141,  ..., 0.0486, 0.0460, 0.0429],\n",
       "         [0.0083, 0.0122, 0.0176,  ..., 0.0511, 0.0476, 0.0438],\n",
       "         [0.0121, 0.0165, 0.0216,  ..., 0.0528, 0.0483, 0.0435],\n",
       "         ...,\n",
       "         [0.0297, 0.0242, 0.0165,  ..., 0.0353, 0.0310, 0.0272],\n",
       "         [0.0278, 0.0228, 0.0157,  ..., 0.0367, 0.0330, 0.0300],\n",
       "         [0.0256, 0.0210, 0.0147,  ..., 0.0371, 0.0337, 0.0316]],\n",
       "\n",
       "        [[0.0180, 0.0181, 0.0177,  ..., 0.0167, 0.0137, 0.0111],\n",
       "         [0.0100, 0.0105, 0.0107,  ..., 0.0191, 0.0156, 0.0126],\n",
       "         [0.0111, 0.0064, 0.0095,  ..., 0.0216, 0.0176, 0.0141],\n",
       "         ...,\n",
       "         [0.0220, 0.0198, 0.0164,  ..., 0.0425, 0.0432, 0.0427],\n",
       "         [0.0231, 0.0211, 0.0180,  ..., 0.0413, 0.0431, 0.0436],\n",
       "         [0.0235, 0.0217, 0.0197,  ..., 0.0394, 0.0421, 0.0432]]],\n",
       "       device='cuda:0')"
      ]
     },
     "execution_count": 86,
     "metadata": {},
     "output_type": "execute_result"
    }
   ],
   "source": [
    "batch_sort_cosine[:,:,:,-1]"
   ]
  },
  {
   "cell_type": "code",
   "execution_count": 87,
   "id": "51cebcf4-4829-4dd1-8168-5745d32a567e",
   "metadata": {},
   "outputs": [
    {
     "name": "stdout",
     "output_type": "stream",
     "text": [
      "torch.Size([4, 256, 256])\n"
     ]
    }
   ],
   "source": [
    "pixel_sub_cosine = batch_sort_cosine[:,:,:,-1] - batch_sort_cosine[:,:,:,-2]\n",
    "print(pixel_sub_cosine.shape)"
   ]
  },
  {
   "cell_type": "code",
   "execution_count": 88,
   "id": "98212b8a-dc47-462d-85e8-36e83f748500",
   "metadata": {},
   "outputs": [],
   "source": [
    "pixel_mask = pixel_sub_cosine > threshold"
   ]
  },
  {
   "cell_type": "code",
   "execution_count": 89,
   "id": "3b809296-c8e4-4670-8653-a84d293c73a4",
   "metadata": {},
   "outputs": [
    {
     "data": {
      "text/plain": [
       "tensor([[[False, False, False,  ..., False, False, False],\n",
       "         [False, False, False,  ..., False, False, False],\n",
       "         [False, False, False,  ..., False, False, False],\n",
       "         ...,\n",
       "         [False, False, False,  ..., False, False, False],\n",
       "         [False, False, False,  ..., False, False, False],\n",
       "         [False, False, False,  ..., False, False, False]],\n",
       "\n",
       "        [[False, False, False,  ..., False, False, False],\n",
       "         [False, False, False,  ..., False, False, False],\n",
       "         [False, False, False,  ..., False, False, False],\n",
       "         ...,\n",
       "         [False, False, False,  ..., False, False, False],\n",
       "         [False, False, False,  ..., False, False, False],\n",
       "         [False, False, False,  ..., False, False, False]],\n",
       "\n",
       "        [[False, False, False,  ..., False, False, False],\n",
       "         [False, False, False,  ..., False, False, False],\n",
       "         [False, False, False,  ..., False, False, False],\n",
       "         ...,\n",
       "         [False, False, False,  ..., False, False, False],\n",
       "         [False, False, False,  ..., False, False, False],\n",
       "         [False, False, False,  ..., False, False, False]],\n",
       "\n",
       "        [[False, False, False,  ..., False, False, False],\n",
       "         [False, False, False,  ..., False, False, False],\n",
       "         [False, False, False,  ..., False, False, False],\n",
       "         ...,\n",
       "         [False, False, False,  ..., False, False, False],\n",
       "         [False, False, False,  ..., False, False, False],\n",
       "         [False, False, False,  ..., False, False, False]]], device='cuda:0')"
      ]
     },
     "execution_count": 89,
     "metadata": {},
     "output_type": "execute_result"
    }
   ],
   "source": [
    "pixel_mask"
   ]
  },
  {
   "cell_type": "code",
   "execution_count": 90,
   "id": "b512cf80-f22b-4acd-a251-917ccacc6b38",
   "metadata": {},
   "outputs": [
    {
     "data": {
      "text/plain": [
       "torch.Size([4, 256, 256])"
      ]
     },
     "execution_count": 90,
     "metadata": {},
     "output_type": "execute_result"
    }
   ],
   "source": [
    "pixel_mask.shape"
   ]
  },
  {
   "cell_type": "code",
   "execution_count": 91,
   "id": "f897ad41-2ef8-4749-8375-02413e9deb1c",
   "metadata": {},
   "outputs": [
    {
     "data": {
      "text/plain": [
       "torch.Size([4, 256, 256])"
      ]
     },
     "execution_count": 91,
     "metadata": {},
     "output_type": "execute_result"
    }
   ],
   "source": [
    "hard_pixel_label = torch.argmax(batch_pixel_cosine_sim, dim=-1)\n",
    "hard_pixel_label.shape"
   ]
  },
  {
   "cell_type": "code",
   "execution_count": 92,
   "id": "a78edd7e-8278-4d0d-a872-c53b8fbcc85a",
   "metadata": {},
   "outputs": [
    {
     "data": {
      "text/plain": [
       "tensor([[[3, 3, 3,  ..., 1, 1, 1],\n",
       "         [3, 3, 2,  ..., 1, 1, 1],\n",
       "         [3, 2, 2,  ..., 1, 4, 4],\n",
       "         ...,\n",
       "         [2, 2, 2,  ..., 4, 4, 4],\n",
       "         [3, 3, 3,  ..., 4, 4, 4],\n",
       "         [3, 3, 3,  ..., 2, 2, 2]],\n",
       "\n",
       "        [[2, 2, 2,  ..., 3, 3, 3],\n",
       "         [2, 2, 2,  ..., 3, 3, 3],\n",
       "         [2, 2, 2,  ..., 3, 3, 3],\n",
       "         ...,\n",
       "         [0, 0, 3,  ..., 3, 3, 3],\n",
       "         [3, 3, 3,  ..., 3, 3, 3],\n",
       "         [3, 3, 3,  ..., 3, 3, 3]],\n",
       "\n",
       "        [[3, 3, 0,  ..., 4, 4, 4],\n",
       "         [3, 0, 0,  ..., 4, 4, 4],\n",
       "         [0, 0, 0,  ..., 4, 4, 4],\n",
       "         ...,\n",
       "         [4, 4, 4,  ..., 1, 1, 3],\n",
       "         [4, 4, 4,  ..., 1, 1, 3],\n",
       "         [4, 4, 4,  ..., 1, 1, 3]],\n",
       "\n",
       "        [[2, 2, 2,  ..., 2, 2, 2],\n",
       "         [2, 2, 2,  ..., 2, 2, 2],\n",
       "         [4, 4, 0,  ..., 2, 2, 2],\n",
       "         ...,\n",
       "         [2, 2, 2,  ..., 2, 2, 2],\n",
       "         [2, 2, 2,  ..., 2, 2, 2],\n",
       "         [2, 2, 0,  ..., 2, 2, 2]]], device='cuda:0')"
      ]
     },
     "execution_count": 92,
     "metadata": {},
     "output_type": "execute_result"
    }
   ],
   "source": [
    "hard_pixel_label"
   ]
  },
  {
   "cell_type": "code",
   "execution_count": 93,
   "id": "a1164a35-6a09-406c-994e-9e2e67c54259",
   "metadata": {},
   "outputs": [
    {
     "data": {
      "text/plain": [
       "tensor([], device='cuda:0', dtype=torch.int64)"
      ]
     },
     "execution_count": 93,
     "metadata": {},
     "output_type": "execute_result"
    }
   ],
   "source": [
    "hard_pixel_label[pixel_mask]"
   ]
  },
  {
   "cell_type": "code",
   "execution_count": 94,
   "id": "29908268-3ae5-49ea-b90e-60753a36ba04",
   "metadata": {},
   "outputs": [
    {
     "data": {
      "text/plain": [
       "torch.Size([262144])"
      ]
     },
     "execution_count": 94,
     "metadata": {},
     "output_type": "execute_result"
    }
   ],
   "source": [
    "hard_pixel_label_flat = hard_pixel_label.flatten()\n",
    "hard_pixel_label_flat.shape"
   ]
  },
  {
   "cell_type": "code",
   "execution_count": 95,
   "id": "639dec24-7dc6-43e0-ac38-f64dfc9f81a9",
   "metadata": {},
   "outputs": [
    {
     "data": {
      "text/plain": [
       "torch.Size([262144])"
      ]
     },
     "execution_count": 95,
     "metadata": {},
     "output_type": "execute_result"
    }
   ],
   "source": [
    "pixel_mask_flat = pixel_mask.flatten()\n",
    "pixel_mask_flat.shape"
   ]
  },
  {
   "cell_type": "code",
   "execution_count": 96,
   "id": "b7a843f1-ae19-493e-8255-11ed7dfe8891",
   "metadata": {},
   "outputs": [
    {
     "data": {
      "text/plain": [
       "tensor([], device='cuda:0', dtype=torch.int64)"
      ]
     },
     "execution_count": 96,
     "metadata": {},
     "output_type": "execute_result"
    }
   ],
   "source": [
    "hard_pixel_label_flat[pixel_mask_flat]"
   ]
  },
  {
   "cell_type": "code",
   "execution_count": 102,
   "id": "f5007aab-e00b-4b60-ba3a-365c79f82d60",
   "metadata": {},
   "outputs": [
    {
     "data": {
      "text/plain": [
       "torch.Size([262144])"
      ]
     },
     "execution_count": 102,
     "metadata": {},
     "output_type": "execute_result"
    }
   ],
   "source": [
    "test_mask = torch.ones(262144)\n",
    "test_mask = test_mask.bool()\n",
    "test_mask.shape"
   ]
  },
  {
   "cell_type": "code",
   "execution_count": 103,
   "id": "f5366f04-7d97-4581-8886-3f3ad04563d7",
   "metadata": {},
   "outputs": [
    {
     "data": {
      "text/plain": [
       "tensor([3, 3, 3,  ..., 2, 2, 2], device='cuda:0')"
      ]
     },
     "execution_count": 103,
     "metadata": {},
     "output_type": "execute_result"
    }
   ],
   "source": [
    "hard_pixel_label_flat[test_mask]"
   ]
  },
  {
   "cell_type": "code",
   "execution_count": null,
   "id": "47d74202-49be-4b6a-abea-ea2a042672ac",
   "metadata": {},
   "outputs": [],
   "source": []
  }
 ],
 "metadata": {
  "kernelspec": {
   "display_name": "Python 3 (ipykernel)",
   "language": "python",
   "name": "python3"
  },
  "language_info": {
   "codemirror_mode": {
    "name": "ipython",
    "version": 3
   },
   "file_extension": ".py",
   "mimetype": "text/x-python",
   "name": "python",
   "nbconvert_exporter": "python",
   "pygments_lexer": "ipython3",
   "version": "3.10.12"
  }
 },
 "nbformat": 4,
 "nbformat_minor": 5
}
