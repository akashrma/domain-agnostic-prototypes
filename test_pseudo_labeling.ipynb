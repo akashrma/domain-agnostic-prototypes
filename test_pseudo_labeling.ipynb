{
 "cells": [
  {
   "cell_type": "code",
   "execution_count": 104,
   "id": "6d9b696f-20e4-4256-a81c-9ea906468f97",
   "metadata": {},
   "outputs": [],
   "source": [
    "import torch\n",
    "import numpy as np\n",
    "from torch import nn\n",
    "import torch.nn.functional as F"
   ]
  },
  {
   "cell_type": "code",
   "execution_count": 105,
   "id": "8ac9efbb-e103-48f7-8373-b80e15a3f8ef",
   "metadata": {},
   "outputs": [],
   "source": [
    "# GENERATE CLASS PROTOTYPES\n",
    "\n",
    "interp_up = nn.Upsample(size=(256, 256), mode='bilinear', align_corners=True)\n",
    "\n",
    "def generate_random_orthogonal_matrix(feature_dim, num_classes):\n",
    "    a = np.random.random(size=(feature_dim, num_classes))\n",
    "    P, _ = np.linalg.qr(a)\n",
    "    P = torch.tensor(P).float()\n",
    "    assert torch.allclose(torch.matmul(P.T, P), torch.eye(num_classes), atol=1e-07), torch.max(torch.abs(torch.matmul(P.T, P) - torch.eye(num_classes)))\n",
    "    return P\n",
    "\n",
    "def generate_etf_class_prototypes(feature_dim, num_classes):\n",
    "    print(f\"Generating ETF class prototypes for K={num_classes} and d={feature_dim}.\")\n",
    "    d = feature_dim\n",
    "    K = num_classes\n",
    "    P = generate_random_orthogonal_matrix(feature_dim=d, num_classes=K)\n",
    "    I = torch.eye(K)\n",
    "    one = torch.ones(K, K)\n",
    "    M_star = np.sqrt(K / (K-1)) * torch.matmul(P, I-((1/K) * one))\n",
    "    M_star = M_star.cuda()\n",
    "    return M_star"
   ]
  },
  {
   "cell_type": "code",
   "execution_count": 106,
   "id": "4d40beb1-87ca-4ada-96dc-d6e2d6762c00",
   "metadata": {},
   "outputs": [
    {
     "name": "stdout",
     "output_type": "stream",
     "text": [
      "Generating ETF class prototypes for K=5 and d=2048.\n"
     ]
    },
    {
     "data": {
      "text/plain": [
       "tensor([[-0.0238,  0.0183,  0.0116, -0.0147,  0.0085],\n",
       "        [-0.0238, -0.0238, -0.0087,  0.0048,  0.0515],\n",
       "        [-0.0276,  0.0288, -0.0199,  0.0072,  0.0115],\n",
       "        ...,\n",
       "        [-0.0239, -0.0309,  0.0081,  0.0428,  0.0040],\n",
       "        [-0.0178,  0.0310, -0.0032,  0.0147, -0.0248],\n",
       "        [-0.0192, -0.0163,  0.0194, -0.0169,  0.0331]], device='cuda:0')"
      ]
     },
     "execution_count": 106,
     "metadata": {},
     "output_type": "execute_result"
    }
   ],
   "source": [
    "class_prototypes = generate_etf_class_prototypes(feature_dim=2048, num_classes=5)\n",
    "class_prototypes"
   ]
  },
  {
   "cell_type": "code",
   "execution_count": 107,
   "id": "3320a8f7-8b0e-48d8-8844-13627a987222",
   "metadata": {},
   "outputs": [
    {
     "name": "stdout",
     "output_type": "stream",
     "text": [
      "torch.Size([2048, 5])\n"
     ]
    }
   ],
   "source": [
    "'''\n",
    "    B: batch size\n",
    "    feat_dim: feature dimension\n",
    "    H: Height\n",
    "    W: Width\n",
    "    mode: Choose out of three options - [\"thresholding\", \"thresh_feat_consistency\", \"pixel_self_labeling_OT\"]\n",
    "    \n",
    "    target_features: B*feat_dim*H*W\n",
    "    domain_agnostic_prototypes: C*feat_dim\n",
    "\n",
    "    domain_agnostic_prototypes are already normalized.\n",
    "'''\n",
    "\n",
    "print(class_prototypes.shape) # (feat_dim, C)"
   ]
  },
  {
   "cell_type": "code",
   "execution_count": 108,
   "id": "54b75d2d-6a44-4de7-aea6-0d1613c12602",
   "metadata": {},
   "outputs": [
    {
     "name": "stdout",
     "output_type": "stream",
     "text": [
      "torch.Size([4, 2048, 33, 33])\n",
      "torch.Size([4, 2048, 256, 256])\n"
     ]
    }
   ],
   "source": [
    "B = 4\n",
    "feat_dim = 2048\n",
    "H = 33\n",
    "W = 33\n",
    "\n",
    "target_features = torch.randn(B, feat_dim, H, W)\n",
    "print(target_features.shape)\n",
    "target_features = interp_up(target_features)\n",
    "print(target_features.shape)"
   ]
  },
  {
   "cell_type": "code",
   "execution_count": 109,
   "id": "2e46b5d3-73da-42d8-9741-90f33ddcbbbb",
   "metadata": {},
   "outputs": [
    {
     "name": "stdout",
     "output_type": "stream",
     "text": [
      "torch.Size([2048])\n",
      "tensor(45.3399)\n"
     ]
    }
   ],
   "source": [
    "# single pixel representation\n",
    "\n",
    "print(target_features[0,:,0,0].shape)\n",
    "print(torch.norm(target_features[0,:,0,0], p=2))"
   ]
  },
  {
   "cell_type": "code",
   "execution_count": 110,
   "id": "e0119856-cd81-4829-b820-bfee024b69ff",
   "metadata": {},
   "outputs": [
    {
     "name": "stdout",
     "output_type": "stream",
     "text": [
      "torch.Size([2048])\n",
      "tensor(1.0000)\n"
     ]
    }
   ],
   "source": [
    "target_features = F.normalize(target_features, p=2, dim=1)\n",
    "print(target_features[0,:,0,0].shape)\n",
    "print(torch.norm(target_features[0,:,0,0], p=2))"
   ]
  },
  {
   "cell_type": "code",
   "execution_count": 111,
   "id": "73fa9248-262a-4a2a-bcd7-ef5c2e0c0305",
   "metadata": {},
   "outputs": [
    {
     "name": "stdout",
     "output_type": "stream",
     "text": [
      "torch.Size([4, 256, 256, 2048])\n"
     ]
    }
   ],
   "source": [
    "target_features = target_features.permute(0, 2, 3, 1)\n",
    "print(target_features.shape)"
   ]
  },
  {
   "cell_type": "code",
   "execution_count": 112,
   "id": "6fba48c1-6ff3-4fa8-9715-e2038dc8e5ef",
   "metadata": {},
   "outputs": [
    {
     "name": "stdout",
     "output_type": "stream",
     "text": [
      "torch.Size([4, 256, 256, 5])\n"
     ]
    }
   ],
   "source": [
    "batch_pixel_cosine_sim = torch.matmul(target_features.cuda(), class_prototypes.cuda())\n",
    "print(batch_pixel_cosine_sim.shape)"
   ]
  },
  {
   "cell_type": "code",
   "execution_count": 113,
   "id": "5e6b96e8-9d44-4a1c-80be-ed35ec784ee6",
   "metadata": {},
   "outputs": [
    {
     "name": "stdout",
     "output_type": "stream",
     "text": [
      "tensor([-0.0030, -0.0254,  0.0085,  0.0188,  0.0011], device='cuda:0')\n"
     ]
    }
   ],
   "source": [
    "print(batch_pixel_cosine_sim[0,0,0,:])"
   ]
  },
  {
   "cell_type": "code",
   "execution_count": 114,
   "id": "9de73152-1517-44c4-b3c5-7c5c07aaa809",
   "metadata": {},
   "outputs": [
    {
     "name": "stdout",
     "output_type": "stream",
     "text": [
      "torch.Size([4, 256, 256, 5])\n"
     ]
    }
   ],
   "source": [
    "threshold = 0.6\n",
    "\n",
    "batch_sort_cosine, _ = torch.sort(batch_pixel_cosine_sim, dim=-1)\n",
    "print(batch_sort_cosine.shape)"
   ]
  },
  {
   "cell_type": "code",
   "execution_count": 115,
   "id": "c604edb3-f623-4ac2-8c9e-b4b2731379b4",
   "metadata": {},
   "outputs": [
    {
     "name": "stdout",
     "output_type": "stream",
     "text": [
      "tensor([-0.0254, -0.0030,  0.0011,  0.0085,  0.0188], device='cuda:0')\n"
     ]
    }
   ],
   "source": [
    "print(batch_sort_cosine[0,0,0,:])"
   ]
  },
  {
   "cell_type": "code",
   "execution_count": 116,
   "id": "99c48384-7a51-4641-9b3c-5b7cddde1a87",
   "metadata": {},
   "outputs": [
    {
     "data": {
      "text/plain": [
       "tensor([[[0.0188, 0.0170, 0.0143,  ..., 0.0167, 0.0188, 0.0200],\n",
       "         [0.0205, 0.0185, 0.0154,  ..., 0.0151, 0.0187, 0.0211],\n",
       "         [0.0220, 0.0197, 0.0164,  ..., 0.0127, 0.0181, 0.0218],\n",
       "         ...,\n",
       "         [0.0316, 0.0364, 0.0412,  ..., 0.0243, 0.0291, 0.0323],\n",
       "         [0.0227, 0.0280, 0.0338,  ..., 0.0278, 0.0314, 0.0336],\n",
       "         [0.0170, 0.0206, 0.0272,  ..., 0.0299, 0.0325, 0.0338]],\n",
       "\n",
       "        [[0.0240, 0.0248, 0.0251,  ..., 0.0358, 0.0362, 0.0357],\n",
       "         [0.0220, 0.0230, 0.0235,  ..., 0.0375, 0.0386, 0.0387],\n",
       "         [0.0253, 0.0258, 0.0256,  ..., 0.0385, 0.0405, 0.0412],\n",
       "         ...,\n",
       "         [0.0324, 0.0328, 0.0322,  ..., 0.0343, 0.0367, 0.0377],\n",
       "         [0.0338, 0.0337, 0.0325,  ..., 0.0251, 0.0267, 0.0273],\n",
       "         [0.0342, 0.0337, 0.0320,  ..., 0.0237, 0.0182, 0.0184]],\n",
       "\n",
       "        [[0.0204, 0.0216, 0.0224,  ..., 0.0168, 0.0138, 0.0190],\n",
       "         [0.0167, 0.0187, 0.0205,  ..., 0.0176, 0.0148, 0.0213],\n",
       "         [0.0166, 0.0154, 0.0175,  ..., 0.0182, 0.0158, 0.0237],\n",
       "         ...,\n",
       "         [0.0320, 0.0324, 0.0319,  ..., 0.0162, 0.0150, 0.0161],\n",
       "         [0.0412, 0.0424, 0.0425,  ..., 0.0192, 0.0167, 0.0176],\n",
       "         [0.0477, 0.0493, 0.0500,  ..., 0.0211, 0.0177, 0.0183]],\n",
       "\n",
       "        [[0.0365, 0.0342, 0.0303,  ..., 0.0264, 0.0290, 0.0304],\n",
       "         [0.0376, 0.0345, 0.0295,  ..., 0.0258, 0.0280, 0.0291],\n",
       "         [0.0380, 0.0338, 0.0275,  ..., 0.0242, 0.0258, 0.0265],\n",
       "         ...,\n",
       "         [0.0509, 0.0484, 0.0439,  ..., 0.0260, 0.0282, 0.0293],\n",
       "         [0.0423, 0.0391, 0.0339,  ..., 0.0237, 0.0249, 0.0254],\n",
       "         [0.0345, 0.0308, 0.0252,  ..., 0.0212, 0.0218, 0.0217]]],\n",
       "       device='cuda:0')"
      ]
     },
     "execution_count": 116,
     "metadata": {},
     "output_type": "execute_result"
    }
   ],
   "source": [
    "batch_sort_cosine[:,:,:,-1]"
   ]
  },
  {
   "cell_type": "code",
   "execution_count": 117,
   "id": "51cebcf4-4829-4dd1-8168-5745d32a567e",
   "metadata": {},
   "outputs": [
    {
     "name": "stdout",
     "output_type": "stream",
     "text": [
      "torch.Size([4, 256, 256])\n"
     ]
    }
   ],
   "source": [
    "pixel_sub_cosine = batch_sort_cosine[:,:,:,-1] - batch_sort_cosine[:,:,:,-2]\n",
    "print(pixel_sub_cosine.shape)"
   ]
  },
  {
   "cell_type": "code",
   "execution_count": 118,
   "id": "98212b8a-dc47-462d-85e8-36e83f748500",
   "metadata": {},
   "outputs": [],
   "source": [
    "pixel_mask = pixel_sub_cosine > threshold"
   ]
  },
  {
   "cell_type": "code",
   "execution_count": 119,
   "id": "3b809296-c8e4-4670-8653-a84d293c73a4",
   "metadata": {},
   "outputs": [
    {
     "data": {
      "text/plain": [
       "tensor([[[False, False, False,  ..., False, False, False],\n",
       "         [False, False, False,  ..., False, False, False],\n",
       "         [False, False, False,  ..., False, False, False],\n",
       "         ...,\n",
       "         [False, False, False,  ..., False, False, False],\n",
       "         [False, False, False,  ..., False, False, False],\n",
       "         [False, False, False,  ..., False, False, False]],\n",
       "\n",
       "        [[False, False, False,  ..., False, False, False],\n",
       "         [False, False, False,  ..., False, False, False],\n",
       "         [False, False, False,  ..., False, False, False],\n",
       "         ...,\n",
       "         [False, False, False,  ..., False, False, False],\n",
       "         [False, False, False,  ..., False, False, False],\n",
       "         [False, False, False,  ..., False, False, False]],\n",
       "\n",
       "        [[False, False, False,  ..., False, False, False],\n",
       "         [False, False, False,  ..., False, False, False],\n",
       "         [False, False, False,  ..., False, False, False],\n",
       "         ...,\n",
       "         [False, False, False,  ..., False, False, False],\n",
       "         [False, False, False,  ..., False, False, False],\n",
       "         [False, False, False,  ..., False, False, False]],\n",
       "\n",
       "        [[False, False, False,  ..., False, False, False],\n",
       "         [False, False, False,  ..., False, False, False],\n",
       "         [False, False, False,  ..., False, False, False],\n",
       "         ...,\n",
       "         [False, False, False,  ..., False, False, False],\n",
       "         [False, False, False,  ..., False, False, False],\n",
       "         [False, False, False,  ..., False, False, False]]], device='cuda:0')"
      ]
     },
     "execution_count": 119,
     "metadata": {},
     "output_type": "execute_result"
    }
   ],
   "source": [
    "pixel_mask"
   ]
  },
  {
   "cell_type": "code",
   "execution_count": 120,
   "id": "b512cf80-f22b-4acd-a251-917ccacc6b38",
   "metadata": {},
   "outputs": [
    {
     "data": {
      "text/plain": [
       "torch.Size([4, 256, 256])"
      ]
     },
     "execution_count": 120,
     "metadata": {},
     "output_type": "execute_result"
    }
   ],
   "source": [
    "pixel_mask.shape"
   ]
  },
  {
   "cell_type": "code",
   "execution_count": 121,
   "id": "f897ad41-2ef8-4749-8375-02413e9deb1c",
   "metadata": {},
   "outputs": [
    {
     "data": {
      "text/plain": [
       "torch.Size([4, 256, 256])"
      ]
     },
     "execution_count": 121,
     "metadata": {},
     "output_type": "execute_result"
    }
   ],
   "source": [
    "hard_pixel_label = torch.argmax(batch_pixel_cosine_sim, dim=-1)\n",
    "hard_pixel_label.shape"
   ]
  },
  {
   "cell_type": "code",
   "execution_count": 122,
   "id": "a78edd7e-8278-4d0d-a872-c53b8fbcc85a",
   "metadata": {},
   "outputs": [
    {
     "data": {
      "text/plain": [
       "tensor([[[3, 3, 3,  ..., 1, 1, 1],\n",
       "         [3, 3, 3,  ..., 1, 1, 1],\n",
       "         [3, 3, 3,  ..., 1, 1, 1],\n",
       "         ...,\n",
       "         [1, 1, 1,  ..., 2, 2, 2],\n",
       "         [1, 1, 1,  ..., 2, 2, 2],\n",
       "         [2, 1, 1,  ..., 2, 2, 2]],\n",
       "\n",
       "        [[1, 1, 1,  ..., 1, 1, 1],\n",
       "         [1, 1, 1,  ..., 1, 1, 1],\n",
       "         [3, 3, 3,  ..., 1, 1, 1],\n",
       "         ...,\n",
       "         [3, 3, 3,  ..., 4, 4, 4],\n",
       "         [3, 3, 3,  ..., 4, 4, 4],\n",
       "         [3, 3, 3,  ..., 2, 4, 4]],\n",
       "\n",
       "        [[4, 4, 4,  ..., 0, 2, 4],\n",
       "         [4, 4, 4,  ..., 0, 0, 4],\n",
       "         [3, 3, 4,  ..., 0, 0, 4],\n",
       "         ...,\n",
       "         [4, 4, 4,  ..., 3, 1, 1],\n",
       "         [4, 4, 4,  ..., 3, 1, 1],\n",
       "         [4, 4, 4,  ..., 3, 1, 1]],\n",
       "\n",
       "        [[3, 3, 3,  ..., 2, 2, 2],\n",
       "         [3, 3, 3,  ..., 2, 2, 2],\n",
       "         [3, 3, 3,  ..., 2, 2, 2],\n",
       "         ...,\n",
       "         [2, 2, 2,  ..., 0, 0, 0],\n",
       "         [2, 2, 2,  ..., 0, 0, 0],\n",
       "         [2, 2, 2,  ..., 0, 0, 0]]], device='cuda:0')"
      ]
     },
     "execution_count": 122,
     "metadata": {},
     "output_type": "execute_result"
    }
   ],
   "source": [
    "hard_pixel_label"
   ]
  },
  {
   "cell_type": "code",
   "execution_count": 123,
   "id": "a1164a35-6a09-406c-994e-9e2e67c54259",
   "metadata": {},
   "outputs": [
    {
     "data": {
      "text/plain": [
       "tensor([], device='cuda:0', dtype=torch.int64)"
      ]
     },
     "execution_count": 123,
     "metadata": {},
     "output_type": "execute_result"
    }
   ],
   "source": [
    "hard_pixel_label[pixel_mask]"
   ]
  },
  {
   "cell_type": "code",
   "execution_count": 124,
   "id": "29908268-3ae5-49ea-b90e-60753a36ba04",
   "metadata": {},
   "outputs": [
    {
     "data": {
      "text/plain": [
       "torch.Size([262144])"
      ]
     },
     "execution_count": 124,
     "metadata": {},
     "output_type": "execute_result"
    }
   ],
   "source": [
    "hard_pixel_label_flat = hard_pixel_label.flatten()\n",
    "hard_pixel_label_flat.shape"
   ]
  },
  {
   "cell_type": "code",
   "execution_count": 125,
   "id": "639dec24-7dc6-43e0-ac38-f64dfc9f81a9",
   "metadata": {},
   "outputs": [
    {
     "data": {
      "text/plain": [
       "torch.Size([262144])"
      ]
     },
     "execution_count": 125,
     "metadata": {},
     "output_type": "execute_result"
    }
   ],
   "source": [
    "pixel_mask_flat = pixel_mask.flatten()\n",
    "pixel_mask_flat.shape"
   ]
  },
  {
   "cell_type": "code",
   "execution_count": 126,
   "id": "b7a843f1-ae19-493e-8255-11ed7dfe8891",
   "metadata": {},
   "outputs": [
    {
     "data": {
      "text/plain": [
       "tensor([], device='cuda:0', dtype=torch.int64)"
      ]
     },
     "execution_count": 126,
     "metadata": {},
     "output_type": "execute_result"
    }
   ],
   "source": [
    "hard_pixel_label_flat[pixel_mask_flat]"
   ]
  },
  {
   "cell_type": "code",
   "execution_count": 127,
   "id": "f5007aab-e00b-4b60-ba3a-365c79f82d60",
   "metadata": {},
   "outputs": [
    {
     "data": {
      "text/plain": [
       "torch.Size([262144])"
      ]
     },
     "execution_count": 127,
     "metadata": {},
     "output_type": "execute_result"
    }
   ],
   "source": [
    "test_mask = torch.ones(262144)\n",
    "test_mask = test_mask.bool()\n",
    "test_mask.shape"
   ]
  },
  {
   "cell_type": "code",
   "execution_count": 128,
   "id": "f5366f04-7d97-4581-8886-3f3ad04563d7",
   "metadata": {},
   "outputs": [
    {
     "data": {
      "text/plain": [
       "tensor([3, 3, 3,  ..., 0, 0, 0], device='cuda:0')"
      ]
     },
     "execution_count": 128,
     "metadata": {},
     "output_type": "execute_result"
    }
   ],
   "source": [
    "hard_pixel_label_flat[test_mask]"
   ]
  },
  {
   "cell_type": "code",
   "execution_count": 130,
   "id": "47d74202-49be-4b6a-abea-ea2a042672ac",
   "metadata": {},
   "outputs": [
    {
     "data": {
      "text/plain": [
       "tensor([], size=(0, 2048))"
      ]
     },
     "execution_count": 130,
     "metadata": {},
     "output_type": "execute_result"
    }
   ],
   "source": [
    "target_features[pixel_mask.cpu()]"
   ]
  },
  {
   "cell_type": "code",
   "execution_count": 131,
   "id": "4272af6f-264f-495c-ab56-604fb65c53d4",
   "metadata": {},
   "outputs": [
    {
     "data": {
      "text/plain": [
       "torch.Size([4, 256, 256, 2048])"
      ]
     },
     "execution_count": 131,
     "metadata": {},
     "output_type": "execute_result"
    }
   ],
   "source": [
    "target_features.shape"
   ]
  },
  {
   "cell_type": "code",
   "execution_count": 134,
   "id": "d72c544b-cb77-41a7-892f-9b2da23647e0",
   "metadata": {},
   "outputs": [
    {
     "name": "stdout",
     "output_type": "stream",
     "text": [
      "torch.Size([262144, 2048])\n"
     ]
    }
   ],
   "source": [
    "target_features_flat = target_features.reshape(-1, 2048)\n",
    "print(target_features_flat.shape)"
   ]
  },
  {
   "cell_type": "code",
   "execution_count": 136,
   "id": "25563b4a-a801-40ba-acae-301add5dcdde",
   "metadata": {},
   "outputs": [
    {
     "data": {
      "text/plain": [
       "torch.Size([262144])"
      ]
     },
     "execution_count": 136,
     "metadata": {},
     "output_type": "execute_result"
    }
   ],
   "source": [
    "pixel_mask_flat.shape"
   ]
  },
  {
   "cell_type": "code",
   "execution_count": 141,
   "id": "0e6c040c-699d-483f-b2b4-c833790227fe",
   "metadata": {},
   "outputs": [
    {
     "data": {
      "text/plain": [
       "tensor([[-0.0224,  0.0190, -0.0069,  ...,  0.0020, -0.0003,  0.0406],\n",
       "        [-0.0224,  0.0180, -0.0102,  ..., -0.0042,  0.0019,  0.0412],\n",
       "        [-0.0219,  0.0162, -0.0140,  ..., -0.0120,  0.0046,  0.0407],\n",
       "        ...,\n",
       "        [ 0.0121,  0.0048,  0.0329,  ...,  0.0055,  0.0105, -0.0013],\n",
       "        [ 0.0152,  0.0036,  0.0269,  ...,  0.0048,  0.0092, -0.0003],\n",
       "        [ 0.0173,  0.0025,  0.0215,  ...,  0.0041,  0.0080,  0.0005]])"
      ]
     },
     "execution_count": 141,
     "metadata": {},
     "output_type": "execute_result"
    }
   ],
   "source": [
    "target_features_flat[test_mask.cpu()]"
   ]
  },
  {
   "cell_type": "code",
   "execution_count": 142,
   "id": "2b715f34-80b2-4c5c-a986-3cd2c682b611",
   "metadata": {},
   "outputs": [
    {
     "data": {
      "text/plain": [
       "262144"
      ]
     },
     "execution_count": 142,
     "metadata": {},
     "output_type": "execute_result"
    }
   ],
   "source": [
    "len(target_features_flat)"
   ]
  },
  {
   "cell_type": "code",
   "execution_count": 2,
   "id": "16da8a64-c54e-4674-a600-eac996b35898",
   "metadata": {},
   "outputs": [
    {
     "data": {
      "text/plain": [
       "torch.Size([4356])"
      ]
     },
     "execution_count": 2,
     "metadata": {},
     "output_type": "execute_result"
    }
   ],
   "source": [
    "# testing \n",
    "import torch\n",
    "\n",
    "preflattened_label = torch.randn(4*33*33)\n",
    "preflattened_label.shape"
   ]
  },
  {
   "cell_type": "code",
   "execution_count": 3,
   "id": "75d8adf4-f71f-4cae-82ae-d14705e8aa6a",
   "metadata": {},
   "outputs": [
    {
     "data": {
      "text/plain": [
       "torch.Size([4, 33, 33])"
      ]
     },
     "execution_count": 3,
     "metadata": {},
     "output_type": "execute_result"
    }
   ],
   "source": [
    "label = torch.randn(4,33,33)\n",
    "label.shape"
   ]
  },
  {
   "cell_type": "code",
   "execution_count": 4,
   "id": "457c0e1a-599a-468b-a0af-abd2e27e8784",
   "metadata": {},
   "outputs": [
    {
     "data": {
      "text/plain": [
       "torch.Size([4356])"
      ]
     },
     "execution_count": 4,
     "metadata": {},
     "output_type": "execute_result"
    }
   ],
   "source": [
    "preflattened_label_flat = preflattened_label.view(-1)\n",
    "preflattened_label_flat.shape"
   ]
  },
  {
   "cell_type": "code",
   "execution_count": 5,
   "id": "a62f49a3-39f9-4ac3-9e74-f6e4d93559ce",
   "metadata": {},
   "outputs": [
    {
     "data": {
      "text/plain": [
       "torch.Size([4356])"
      ]
     },
     "execution_count": 5,
     "metadata": {},
     "output_type": "execute_result"
    }
   ],
   "source": [
    "label_flat = label.view(-1)\n",
    "label_flat.shape"
   ]
  },
  {
   "cell_type": "code",
   "execution_count": null,
   "id": "5e36527c-d06b-4196-9dff-9e4e0beb369d",
   "metadata": {},
   "outputs": [],
   "source": [
    "s"
   ]
  }
 ],
 "metadata": {
  "kernelspec": {
   "display_name": "Python 3 (ipykernel)",
   "language": "python",
   "name": "python3"
  },
  "language_info": {
   "codemirror_mode": {
    "name": "ipython",
    "version": 3
   },
   "file_extension": ".py",
   "mimetype": "text/x-python",
   "name": "python",
   "nbconvert_exporter": "python",
   "pygments_lexer": "ipython3",
   "version": "3.10.12"
  }
 },
 "nbformat": 4,
 "nbformat_minor": 5
}
